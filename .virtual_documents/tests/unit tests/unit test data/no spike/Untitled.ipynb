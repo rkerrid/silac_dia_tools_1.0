import numpy as np
import seaborn as sns
import pandas as pd
import matplotlib.pyplot as plt


path = r'C:\phd projects\silac_dia_tools_1.0\tests\unit tests\unit test data\no spike\precursor_ratios_no_spike.csv'
df=pd.read_csv(f'{path}',sep=',')
df



# Plot histograms for columns 'A', 'B', and 'C'
sns.histplot(np.log2(df['precursor_quantity_pulse_L_ratio']), color="blue", label="quantity", kde=False, bins=500, alpha=0.6)
sns.histplot(np.log2(df['precursor_translated_pulse_L_ratio']), color="green", label="translated", kde=False, bins=1000, alpha=0.4)
sns.histplot(np.log2(df['ms1_translated_pulse_L_ratio']), color="red", label="ms1", kde=False, bins=500, alpha=0.2)

# Add titles and labels
plt.title('Histogram of ratios for each intensity column')
plt.xlabel('Values')
plt.ylabel('Frequency')

plt.xlim(-15,15)
# Display the legend
plt.legend()

# Show the plot
plt.show()


cols = ['precursor_quantity_pulse_L_ratio','precursor_translated_pulse_L_ratio','ms1_translated_pulse_L_ratio']
df[cols] = np.log2(df[cols])
# Set the plot size
plt.figure(figsize=(8, 6))

# Create a scatter plot using seaborn
sns.scatterplot(data=df, x='precursor_quantity_pulse_L_ratio', y='precursor_translated_pulse_L_ratio', s=100)

# Add titles and labels
plt.title('Scatter Plot of X vs Y')
plt.xlabel('precursor_quantity_pulse_L_ratio')
plt.ylabel('precursor_translated_pulse_L_ratio')

# Show the plot
plt.show()


# Set the plot size
plt.figure(figsize=(8, 6))

# Create a scatter plot using seaborn
sns.scatterplot(data=df, x='precursor_quantity_pulse_L_ratio', y='ms1_translated_pulse_L_ratio', s=100)

# Add titles and labels
plt.title('Scatter Plot of X vs Y')
plt.xlabel('precursor_quantity_pulse_L_ratio')
plt.ylabel('precursor_translated_pulse_L_ratio')

# Show the plot
plt.show()


# Set the plot size
plt.figure(figsize=(8, 6))

# Create a scatter plot using seaborn
sns.scatterplot(data=df, x='precursor_translated_pulse_L_ratio', y='precursor_translated_pulse_L_ratio', s=100)

# Add titles and labels
plt.title('Scatter Plot of X vs Y')
plt.xlabel('precursor_quantity_pulse_L_ratio')
plt.ylabel('precursor_translated_pulse_L_ratio')

# Show the plot
plt.show()



