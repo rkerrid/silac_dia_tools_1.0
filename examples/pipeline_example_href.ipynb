{
 "cells": [
  {
   "cell_type": "markdown",
   "id": "d6728ec4-88df-44dc-be37-e24c48939002",
   "metadata": {},
   "source": [
    "# Example for href usage"
   ]
  },
  {
   "cell_type": "markdown",
   "id": "480ddde7-9efa-4591-8069-8fe73ac40bfe",
   "metadata": {},
   "source": [
    "### The following notebook provides a quick example of how to use SILAC-DIA Tools to process DIA-NN report.tsv files generated after preforming Dynamic SILAC DIA-SiS experiments"
   ]
  },
  {
   "cell_type": "markdown",
   "id": "daf5af10-0cd5-4781-a0aa-73c9c7d5bc4b",
   "metadata": {},
   "source": [
    "Note: Make sure your report.tsv is accompanied by a metadata file in the same folder location if you want to relable your runs and use the downstream stats pipeline"
   ]
  },
  {
   "cell_type": "markdown",
   "id": "d0276f53-d916-40f8-b058-a91e155a1c29",
   "metadata": {},
   "source": [
    "Import the package after installation"
   ]
  },
  {
   "cell_type": "code",
   "execution_count": 1,
   "id": "2cc927be-759a-4156-8d3c-4a2c39a2e2c3",
   "metadata": {},
   "outputs": [],
   "source": [
    "from silac_dia_tools.pipeline_refactored.pipeline import Pipeline as pipeline"
   ]
  },
  {
   "cell_type": "markdown",
   "id": "fa9389cb-041d-4f65-9b4f-8669725b0ef2",
   "metadata": {},
   "source": [
    "Set the path to your report.tsv file"
   ]
  },
  {
   "cell_type": "code",
   "execution_count": 2,
   "id": "a779746d-b1cd-411a-a07e-227ac50f3262",
   "metadata": {},
   "outputs": [],
   "source": [
    "path = 'G:/My Drive/Data/data/240112 poc4 test/repeat measure/H/'"
   ]
  },
  {
   "cell_type": "markdown",
   "id": "39120e14-910c-499d-832f-bba4ba16e001",
   "metadata": {},
   "source": [
    "Initialize pipeline object with the file path, the parameter file, whether the experiment contains a refference (for DIA-SiS this is always True), the pulse channel, and name of the metadata file"
   ]
  },
  {
   "cell_type": "code",
   "execution_count": 3,
   "id": "b1418abb-04db-44f4-8ce6-8e205c5bb766",
   "metadata": {},
   "outputs": [
    {
     "name": "stdout",
     "output_type": "stream",
     "text": [
      "Metadata added, looking for the following file: meta.csv\n",
      "CSV file 'meta.csv' found in G:/My Drive/Data/data/240112 poc4 test/repeat measure/H/\n"
     ]
    }
   ],
   "source": [
    "pipeline = pipeline( f'{path}', 'test_params.json', contains_reference = True, pulse_channel=\"M\", meta='meta.csv')"
   ]
  },
  {
   "cell_type": "markdown",
   "id": "2cbdc778-29ec-4ab2-8bea-01e7cbe6a0f7",
   "metadata": {},
   "source": [
    "After executing the pipeline, normalized protein intensities, preprocessing steps, and reports will be added to subdirectories at the path provided"
   ]
  },
  {
   "cell_type": "code",
   "execution_count": null,
   "id": "40f59ddf-0801-436b-b047-ccabfcd874e0",
   "metadata": {},
   "outputs": [
    {
     "name": "stdout",
     "output_type": "stream",
     "text": [
      "Beginning import report.tsv\n"
     ]
    },
    {
     "name": "stderr",
     "output_type": "stream",
     "text": [
      "Estimated loading of report.tsv based on file size:  68%|██████████▏    | 32/46.83733377777778 [01:08<00:31,  2.15s/it]"
     ]
    }
   ],
   "source": [
    "pipeline.execute_pipeline()"
   ]
  },
  {
   "cell_type": "code",
   "execution_count": null,
   "id": "75a1cbe8-e031-415b-bb5f-4780830e851e",
   "metadata": {},
   "outputs": [],
   "source": []
  }
 ],
 "metadata": {
  "kernelspec": {
   "display_name": "Python 3 (ipykernel)",
   "language": "python",
   "name": "python3"
  },
  "language_info": {
   "codemirror_mode": {
    "name": "ipython",
    "version": 3
   },
   "file_extension": ".py",
   "mimetype": "text/x-python",
   "name": "python",
   "nbconvert_exporter": "python",
   "pygments_lexer": "ipython3",
   "version": "3.8.18"
  }
 },
 "nbformat": 4,
 "nbformat_minor": 5
}
