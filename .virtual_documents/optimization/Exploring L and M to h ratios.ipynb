


import pandas as pd
import numpy as np
import matplotlib.pyplot as plt


path = 'G:/My Drive/Data/data/20240530 modifying triple silac/preprocessing/filtered_report.tsv'


df = pd.read_csv(f"{path}", sep='\t')


df.replace(0.0, np.nan, inplace=True)
df.head()


df = df.pivot_table(index=['Run','Protein.Group', 'Precursor.Id'], columns='Label', values = ['Ms1.Translated', 'Precursor.Quantity', 'Precursor.Translated'])





# Index precursor and ms1 transalted H from pivoted df and format new df containing all H_ref information

# Access the 'Ms1.Translated' and 'Precursor.Translated' columns under the 'H' label
ms1_translated_h = df.loc[:, ('Ms1.Translated', 'H')]
precursor_translated_h = df.loc[:, ('Precursor.Translated', 'H')]

# Combine into a new DataFrame
combined_df = pd.DataFrame({
    'Ms1.Translated_H': ms1_translated_h,
    'Precursor.Translated_H': precursor_translated_h
})

# Reset index to include 'Run', 'Protein.Group', and 'Precursor.Id' as columns
combined_H_df = combined_df.reset_index()

# Rename columns for clarity
combined_H_df.columns = ['Run', 'Protein.Group', 'Precursor.Id', 'Ms1.Translated_H', 'Precursor.Translated_H']

# Display the resulting DataFrame
combined_H_df


combined_H_df = combined_H_df.copy(deep = True)

combined_H_df = combined_H_df.dropna(subset=['Precursor.Translated_H','Ms1.Translated_H'])
combined_H_df


def combined_median(ms1_series, precursor_series):
    combined_series = np.concatenate([ms1_series, precursor_series])
    combined_series = np.log10(combined_series)  # Log-transform the combined series
    return np.median(combined_series)  # Return the median of the log-transformed values
 
# Group by protein group and apply the custom aggregation
grouped = combined_H_df.groupby(['Protein.Group']).apply(lambda x: pd.Series({
    'href': combined_median(x['Ms1.Translated_H'], x['Precursor.Translated_H']) 
})).reset_index()


href_df =  grouped[['Protein.Group', 'href']]
href_df








 df['Precursor.Translated L/H'] = df['Precursor.Translated L'] / df['Precursor.Translated H']
        df['Ms1.Translated L/H'] = df['Ms1.Translated L'] / df['Ms1.Translated H']
        
        df['Precursor.Translated M/H'] = df['Precursor.Translated M'] / df['Precursor.Translated H'] 
        df['Ms1.Translated M/H'] = df['Ms1.Translated M'] / df['Ms1.Translated H']


path = "G:/My Drive/Data/main experiments/20240527 eIF4F with Chiara/eIF/preprocessing/formatted_precursors.tsv"
df = pd.read_csv(f"{path}", sep='\t')


df_sorted = df.sort_values(by='Precursor.Translated L/H', ascending=False)
df_sorted.head()








df = df.dropna(subset=['Precursor.Translated L/H','Ms1.Translated L/H'])
df = df.dropna(subset=['Precursor.Translated M/H','Ms1.Translated M/H'])


df_sorted = df.sort_values(by='Precursor.Translated L/H', ascending=False)
df_sorted.head()





# Plot the histograms
plt.figure(figsize=(10, 6))
plt.hist(df['log2 Precursor L/H'], bins=100, edgecolor='black', label='log2 Precursor L/H')
plt.hist(df['log2 MS1 L/H'], bins=100, edgecolor='black', label='log2 MS1 L/H')

plt.title('Histogram of Log2-Transformed L/H Ratios')
plt.xlabel('Log2 Value')
plt.ylabel('Frequency')
plt.legend()
plt.grid(True)
plt.show()



# Plot the histogram
plt.figure(figsize=(10, 6))
plt.hist(df['log2 Precursor M/H'], bins=100, edgecolor='black', label='log2 Precursor M/H')
plt.hist(df['log2 MS1 M/H'], bins=100, edgecolor='black',alpha=0.5, label='log2 MS1 M/H')

plt.title('Histogram of Log2-Transformed M/H Ratios')
plt.xlabel('Log2 Value')
plt.ylabel('Frequency')
plt.legend()
plt.grid(True)
plt.show()



