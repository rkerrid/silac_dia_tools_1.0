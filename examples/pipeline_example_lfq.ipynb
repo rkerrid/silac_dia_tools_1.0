{
 "cells": [
  {
   "cell_type": "markdown",
   "id": "68e4d4c0-33fc-4c94-952e-45b136e31a68",
   "metadata": {},
   "source": [
    "# Example for LFQ usage"
   ]
  },
  {
   "cell_type": "markdown",
   "id": "69bb7851-baad-44e0-99f0-b10da18e14ed",
   "metadata": {},
   "source": [
    "For experiments where a heavy spike-in was not available, noramlizatin can be performed by stacking the light and pulse channels together and normalizing the total intensity with directLFQ. "
   ]
  },
  {
   "cell_type": "markdown",
   "id": "c7e43f3c-3404-4ed3-a4a7-08c30e1b76cd",
   "metadata": {},
   "source": [
    "Note: Make sure your report.tsv is accompanied by a metadata file in the same folder location if you want to relable your runs and use the downstream stats pipeline"
   ]
  },
  {
   "cell_type": "markdown",
   "id": "5c476c33-fedd-423a-9a68-e32b2e4246b4",
   "metadata": {},
   "source": [
    "Import the package after installation"
   ]
  },
  {
   "cell_type": "code",
   "execution_count": 1,
   "id": "5f0b11c6-5461-4f59-bfdf-1caf671bf4c0",
   "metadata": {},
   "outputs": [],
   "source": [
    "from silac_dia_tools.pipeline_refactored.pipeline import Pipeline as pipeline"
   ]
  },
  {
   "cell_type": "markdown",
   "id": "5db4d4a9-9a04-484a-9084-b6427a774548",
   "metadata": {},
   "source": [
    "Set the path to your report.tsv file"
   ]
  },
  {
   "cell_type": "code",
   "execution_count": 2,
   "id": "189be5f1-4a64-4820-94a7-32b03582400b",
   "metadata": {},
   "outputs": [
    {
     "ename": "SyntaxError",
     "evalue": "EOL while scanning string literal (1119101178.py, line 1)",
     "output_type": "error",
     "traceback": [
      "\u001b[1;36m  Cell \u001b[1;32mIn[2], line 1\u001b[1;36m\u001b[0m\n\u001b[1;33m    path = r'G:\\My Drive\\Data\\main experiments\\20240219 baby benchmark for pydia_sis\\'\u001b[0m\n\u001b[1;37m                                                                                      ^\u001b[0m\n\u001b[1;31mSyntaxError\u001b[0m\u001b[1;31m:\u001b[0m EOL while scanning string literal\n"
     ]
    }
   ],
   "source": [
    "path = r'G:\\My Drive\\Data\\main experiments\\20240219 baby benchmark for pydia_sis\\'"
   ]
  },
  {
   "cell_type": "markdown",
   "id": "fff8ca63-d99d-476b-bfd0-349d7b059bdb",
   "metadata": {},
   "source": [
    "Initialize pipeline object with the file path, the parameter file, whether the experiment contains a refference (for LFQ normalization this is always False), the pulse channel, and name of the metadata file"
   ]
  },
  {
   "cell_type": "code",
   "execution_count": 7,
   "id": "b6d12ba2-b493-43bf-9c02-d546f537bd5b",
   "metadata": {},
   "outputs": [
    {
     "name": "stdout",
     "output_type": "stream",
     "text": [
      "Metadata added, looking for the following file: meta.csv\n",
      "CSV file 'meta.csv' found in G:/My Drive/Data/data/1 demo data/dynamic silac no spike in/\n"
     ]
    }
   ],
   "source": [
    "pipeline = pipeline( f'{path}', 'test_params.json', contains_reference = False, pulse_channel=\"H\", meta='meta.csv')"
   ]
  },
  {
   "cell_type": "code",
   "execution_count": 8,
   "id": "a6ef594f-dbdf-4781-a683-732f796e21b1",
   "metadata": {},
   "outputs": [
    {
     "name": "stdout",
     "output_type": "stream",
     "text": [
      "Beginning import report.tsv\n"
     ]
    },
    {
     "name": "stderr",
     "output_type": "stream",
     "text": [
      "Estimated loading of report.tsv based on file size:  98%|█████████████▊| 39/39.708313233333335 [05:03<00:05,  7.87s/it]C:\\Users\\rkerrid\\AppData\\Local\\miniconda3\\envs\\silac_dia_toolsv1.0\\lib\\site-packages\\tqdm\\std.py:639: TqdmWarning: clamping frac to range [0, 1]\n",
      "  full_bar = Bar(frac,\n",
      "Estimated loading of report.tsv based on file size: 47it [05:54,  7.54s/it]                                            \n"
     ]
    },
    {
     "name": "stdout",
     "output_type": "stream",
     "text": [
      "Finished import\n",
      "Time taken for import: 354.8856155872345 seconds\n"
     ]
    },
    {
     "ename": "AttributeError",
     "evalue": "'LfqRollUp' object has no attribute 'generate_protein_groups'",
     "output_type": "error",
     "traceback": [
      "\u001b[1;31m---------------------------------------------------------------------------\u001b[0m",
      "\u001b[1;31mAttributeError\u001b[0m                            Traceback (most recent call last)",
      "Cell \u001b[1;32mIn[8], line 1\u001b[0m\n\u001b[1;32m----> 1\u001b[0m \u001b[43mpipeline\u001b[49m\u001b[38;5;241;43m.\u001b[39;49m\u001b[43mexecute_pipeline\u001b[49m\u001b[43m(\u001b[49m\u001b[43m)\u001b[49m\n",
      "File \u001b[1;32mc:\\phd projects\\silac_dia_toolsv1.0\\silac_dia_tools_1.0\\silac_dia_tools\\pipeline_refactored\\pipeline.py:110\u001b[0m, in \u001b[0;36mPipeline.execute_pipeline\u001b[1;34m(self, generate_report)\u001b[0m\n\u001b[0;32m    107\u001b[0m     \u001b[38;5;28mself\u001b[39m\u001b[38;5;241m.\u001b[39mprecursor_rollup \u001b[38;5;241m=\u001b[39m LfqRollUp(\u001b[38;5;28mself\u001b[39m\u001b[38;5;241m.\u001b[39mpath, \u001b[38;5;28mself\u001b[39m\u001b[38;5;241m.\u001b[39mfiltered_report, \u001b[38;5;28mself\u001b[39m\u001b[38;5;241m.\u001b[39mpulse_channel)\n\u001b[0;32m    108\u001b[0m     generate_report\u001b[38;5;241m=\u001b[39m\u001b[38;5;28;01mFalse\u001b[39;00m\n\u001b[1;32m--> 110\u001b[0m \u001b[38;5;28mself\u001b[39m\u001b[38;5;241m.\u001b[39mformatted_precursors, \u001b[38;5;28mself\u001b[39m\u001b[38;5;241m.\u001b[39mprotein_groups \u001b[38;5;241m=\u001b[39m \u001b[38;5;28;43mself\u001b[39;49m\u001b[38;5;241;43m.\u001b[39;49m\u001b[43mprecursor_rollup\u001b[49m\u001b[38;5;241;43m.\u001b[39;49m\u001b[43mgenerate_protein_groups\u001b[49m()\n\u001b[0;32m    112\u001b[0m \u001b[38;5;66;03m# return self.protein_groups\u001b[39;00m\n\u001b[0;32m    113\u001b[0m \u001b[38;5;28;01mif\u001b[39;00m generate_report:\n",
      "\u001b[1;31mAttributeError\u001b[0m: 'LfqRollUp' object has no attribute 'generate_protein_groups'"
     ]
    }
   ],
   "source": [
    "pipeline.make_metadata()"
   ]
  },
  {
   "cell_type": "code",
   "execution_count": null,
   "id": "7304fdd8-04c0-441d-8268-62372dd8f018",
   "metadata": {},
   "outputs": [],
   "source": []
  }
 ],
 "metadata": {
  "kernelspec": {
   "display_name": "Python 3 (ipykernel)",
   "language": "python",
   "name": "python3"
  },
  "language_info": {
   "codemirror_mode": {
    "name": "ipython",
    "version": 3
   },
   "file_extension": ".py",
   "mimetype": "text/x-python",
   "name": "python",
   "nbconvert_exporter": "python",
   "pygments_lexer": "ipython3",
   "version": "3.8.18"
  }
 },
 "nbformat": 4,
 "nbformat_minor": 5
}
