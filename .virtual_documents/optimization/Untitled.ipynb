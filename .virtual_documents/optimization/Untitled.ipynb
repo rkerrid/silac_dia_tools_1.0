import pandas as pd
import numpy as np
import matplotlib.pyplot as plt
from tqdm import tqdm



path = 'G:/My Drive/Data/data/20240530 modifying triple silac/preprocessing/filtered_report.tsv'


df = pd.read_csv(f"{path}", sep='\t')


df.replace(0.0, np.nan, inplace=True)
df.head()


df = df.pivot_table(index=['Run','Protein.Group', 'Precursor.Id'], columns='Label', values = ['Ms1.Translated', 'Precursor.Quantity', 'Precursor.Translated'])
df





# Index precursor and ms1 transalted H from pivoted df and format new df containing all H_ref information

# Access the 'Ms1.Translated' and 'Precursor.Translated' columns under the 'H' label
ms1_translated_H = df.loc[:, ('Ms1.Translated', 'H')]
precursor_translated_H = df.loc[:, ('Precursor.Translated', 'H')]

# Combine into a new DataFrame
combined_df = pd.DataFrame({
    'Ms1.Translated_H': ms1_translated_H,
    'Precursor.Translated_H': precursor_translated_H
})

# Reset index to include 'Run', 'Protein.Group', and 'Precursor.Id' as columns
combined_H_df = combined_df.reset_index()

# Rename columns for clarity
combined_H_df.columns = ['Run', 'Protein.Group', 'Precursor.Id', 'Ms1.Translated_H', 'Precursor.Translated_H']

# drop rows where there are no valid pairs of Precursor and Ms1 translated
combined_H_df = combined_H_df.dropna(subset=['Precursor.Translated_H','Ms1.Translated_H'])

# Display the resulting DataFrame
combined_H_df





# Access the 'Ms1.Translated' and 'Precursor.Translated' columns under the 'H' and 'L' label
ms1_translated_L = df.loc[:, ('Ms1.Translated', 'L')]
precursor_translated_L = df.loc[:, ('Precursor.Translated', 'L')]
ms1_translated_H = df.loc[:, ('Ms1.Translated', 'H')]
precursor_translated_H = df.loc[:, ('Precursor.Translated', 'H')]

# Combine into a new DataFrame
combined_df = pd.DataFrame({
    'Ms1.Translated_H': ms1_translated_H,
    'Precursor.Translated_H': precursor_translated_H,
    'Ms1.Translated_L': ms1_translated_L,
    'Precursor.Translated_L': precursor_translated_L
})

# Reset index to include 'Run', 'Protein.Group', and 'Precursor.Id' as columns
combined_LH_df = combined_df.reset_index()

# Rename columns for clarity
combined_LH_df.columns = ['Run', 'Protein.Group', 'Precursor.Id', 'Ms1.Translated_H', 'Precursor.Translated_H', 'Ms1.Translated_L', 'Precursor.Translated_L']

# Display the resulting DataFrame
combined_LH_df





combined_LH_df['Precursor.Translated L/H'] = combined_LH_df['Precursor.Translated_L'] / combined_LH_df['Precursor.Translated_H']
combined_LH_df['Ms1.Translated L/H'] = combined_LH_df['Ms1.Translated_L'] / combined_LH_df['Ms1.Translated_H']
combined_LH_df = combined_LH_df[['Run', 'Protein.Group', 'Precursor.Id', 'Precursor.Translated L/H', 'Ms1.Translated L/H']]
combined_LH_df = combined_LH_df.dropna(subset=['Precursor.Translated L/H','Ms1.Translated L/H'])
combined_LH_df





# Access the 'Ms1.Translated' and 'Precursor.Translated' columns under the 'H' and 'M' label
ms1_translated_M = df.loc[:, ('Ms1.Translated', 'M')]
precursor_translated_M = df.loc[:, ('Precursor.Translated', 'M')]
ms1_translated_H = df.loc[:, ('Ms1.Translated', 'H')]
precursor_translated_H = df.loc[:, ('Precursor.Translated', 'H')]

# Combine into a new DataFrame
combined_df = pd.DataFrame({
    'Ms1.Translated_H': ms1_translated_H,
    'Precursor.Translated_H': precursor_translated_H,
    'Ms1.Translated_M': ms1_translated_M,
    'Precursor.Translated_M': precursor_translated_M
})

# Reset index to include 'Run', 'Protein.Group', and 'Precursor.Id' as columns
combined_MH_df = combined_df.reset_index()

# Rename columns for clarity
combined_MH_df.columns = ['Run', 'Protein.Group', 'Precursor.Id', 'Ms1.Translated_H', 'Precursor.Translated_H', 'Ms1.Translated_M', 'Precursor.Translated_M']

# Display the resulting DataFrame
combined_MH_df





combined_MH_df['Precursor.Translated M/H'] = combined_MH_df['Precursor.Translated_M'] / combined_MH_df['Precursor.Translated_H']
combined_MH_df['Ms1.Translated M/H'] = combined_MH_df['Ms1.Translated_M'] / combined_MH_df['Ms1.Translated_H']
combined_MH_df = combined_MH_df[['Run', 'Protein.Group', 'Precursor.Id', 'Precursor.Translated M/H', 'Ms1.Translated M/H']]
combined_MH_df = combined_MH_df.dropna(subset=['Precursor.Translated M/H','Ms1.Translated M/H'])
combined_MH_df





combined_H_df = combined_H_df.dropna(subset=['Precursor.Translated_H','Ms1.Translated_H'])

def combined_median(ms1_series, precursor_series):
    combined_series = np.concatenate([ms1_series, precursor_series])
    combined_series = np.log10(combined_series)  # Log-transform the combined series
    return np.median(combined_series)  # Return the median of the log-transformed values
 
# Group by protein group and apply the custom aggregation
grouped = combined_H_df.groupby(['Protein.Group']).apply(lambda x: pd.Series({
    'href': combined_median(x['Ms1.Translated_H'], x['Precursor.Translated_H']) 
})).reset_index()


href_df =  grouped[['Protein.Group', 'href']]
href_df






runs = combined_LH_df['Run'].unique()
runs_list = []

for run in tqdm(runs, desc='Computing protein level ratios for each run'):
    run_df = combined_LH_df[combined_LH_df['Run'] == run]

    def combined_median(ms1_series, precursor_series):
        combined_series = np.concatenate([ms1_series, precursor_series])
        combined_series = np.log10(combined_series)  # Log-transform the combined series
        return np.median(combined_series)  # Return the median of the log-transformed values
     
    # Group by protein group and apply the custom aggregation
    grouped = run_df.groupby(['Protein.Group']).apply(lambda x: pd.Series({
        'L/H ratio': combined_median(x['Ms1.Translated L/H'], x['Precursor.Translated L/H'])})).reset_index()
    
    grouped['Run'] = run
    runs_list.append(grouped)

result = pd.concat(runs_list, ignore_index=True)

cols = ['Run','Protein.Group', 'L/H ratio']

# Returning the dataframe with specified columns
LH_protein_df = result[cols]   
LH_protein_df





runs = combined_MH_df['Run'].unique()
runs_list = []

for run in tqdm(runs, desc='Computing protein level ratios for each run'):
    run_df = combined_MH_df[combined_MH_df['Run'] == run]

    def combined_median(ms1_series, precursor_series):
        combined_series = np.concatenate([ms1_series, precursor_series])
        combined_series = np.log10(combined_series)  # Log-transform the combined series
        return np.median(combined_series)  # Return the median of the log-transformed values
     
    # Group by protein group and apply the custom aggregation
    grouped = run_df.groupby(['Protein.Group']).apply(lambda x: pd.Series({
        'M/H ratio': combined_median(x['Ms1.Translated M/H'], x['Precursor.Translated M/H'])})).reset_index()
    
    grouped['Run'] = run
    runs_list.append(grouped)

result = pd.concat(runs_list, ignore_index=True)

cols = ['Run','Protein.Group', 'M/H ratio']

# Returning the dataframe with specified columns
MH_protein_df = result[cols]   
MH_protein_df





# light
# Merge the href_df onto protein groups containing optimized ratios
merged_df_LH = LH_protein_df.merge(href_df, on='Protein.Group', how='left')
merged_df_MH = MH_protein_df.merge(href_df, on='Protein.Group', how='left')

# Obtain normalized light intensities by adding the L/H ratio to the heavy refference in log space
merged_df_LH['L_norm'] = merged_df_LH['L/H ratio'] + merged_df_LH['href']
merged_df_MH['M_norm'] = merged_df_MH['M/H ratio'] + merged_df_MH['href']

# reverse log data to output protein intensities
merged_df_LH['L_norm'] = 10**merged_df_LH['L_norm'] 
merged_df_MH['M_norm'] = 10**merged_df_MH['M_norm']
href_df['href'] = 10**href_df['href']


merged_df_LH


merged_df_MH


href_df





merged_df_LH = merged_df_LH.rename(columns={'L_norm': 'L'})
merged_df_MH = merged_df_MH.rename(columns={'M_norm': 'M'})

# Pivoting for 'L'
l_pivot_df = merged_df_LH.pivot(index='Protein.Group', columns='Run', values='L')

# Pivoting for 'M'
m_pivot_df = merged_df_MH.pivot(index='Protein.Group', columns='Run', values='M')



l_pivot_df


m_pivot_df



