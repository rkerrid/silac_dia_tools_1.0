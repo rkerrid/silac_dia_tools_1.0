











from silac_dia_tools.pipeline_refactored.pipeline import Pipeline as pipeline


Set the path to your report.tsv file


path = 'G:/My Drive/Data/data/1 demo data/dynamic silac no spike in/'





pipeline = pipeline( f'{path}', 'test_params.json', contains_reference = True, pulse_channel="M", meta='meta.csv')
