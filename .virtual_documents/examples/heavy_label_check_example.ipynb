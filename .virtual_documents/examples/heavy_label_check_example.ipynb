


# Import modules
from silac_dia_tools.label_check import file_io as io
from silac_dia_tools.label_check import get_peptide_details 
from silac_dia_tools.label_check import plot_spectra
from silac_dia_tools.label_check import process_peptide_details


# Set path to directory containing .raw files for label check, the msms.txt, and evidence.txt (MQ output with requantify on) 
path = 'G:/My Drive/Data/data/1 demo data/label check for EIF4F/'


# Get list of thermo .raw files for the label check (DDA)
raw_files = io.list_raw_files(path)


#import MQ and thermo raw file data
msms = io.import_file(f"{path}msms.txt")
evidence = io.import_file(f"{path}evidence.txt")
ms1_dfs = io.get_raw_data(path, raw_files, 1000)


# get peptide details for most abundant H peptides containing K, R, and P
peptides = get_peptide_details.get_most_abundant_krp_peptide(msms,evidence) 


# process details and save temp csv
process_peptide_details.process_details(peptides, ms1_dfs, path)


# import and plot data
plot_spectra.import_ms_data_for_plotting(path, peptides)



